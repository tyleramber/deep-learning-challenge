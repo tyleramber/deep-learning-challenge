{
 "cells": [
  {
   "cell_type": "markdown",
   "metadata": {},
   "source": [
    "## Preprocessing"
   ]
  },
  {
   "cell_type": "code",
   "execution_count": 1,
   "metadata": {},
   "outputs": [
    {
     "data": {
      "text/html": [
       "<div>\n",
       "<style scoped>\n",
       "    .dataframe tbody tr th:only-of-type {\n",
       "        vertical-align: middle;\n",
       "    }\n",
       "\n",
       "    .dataframe tbody tr th {\n",
       "        vertical-align: top;\n",
       "    }\n",
       "\n",
       "    .dataframe thead th {\n",
       "        text-align: right;\n",
       "    }\n",
       "</style>\n",
       "<table border=\"1\" class=\"dataframe\">\n",
       "  <thead>\n",
       "    <tr style=\"text-align: right;\">\n",
       "      <th></th>\n",
       "      <th>EIN</th>\n",
       "      <th>NAME</th>\n",
       "      <th>APPLICATION_TYPE</th>\n",
       "      <th>AFFILIATION</th>\n",
       "      <th>CLASSIFICATION</th>\n",
       "      <th>USE_CASE</th>\n",
       "      <th>ORGANIZATION</th>\n",
       "      <th>STATUS</th>\n",
       "      <th>INCOME_AMT</th>\n",
       "      <th>SPECIAL_CONSIDERATIONS</th>\n",
       "      <th>ASK_AMT</th>\n",
       "      <th>IS_SUCCESSFUL</th>\n",
       "    </tr>\n",
       "  </thead>\n",
       "  <tbody>\n",
       "    <tr>\n",
       "      <th>0</th>\n",
       "      <td>10520599</td>\n",
       "      <td>BLUE KNIGHTS MOTORCYCLE CLUB</td>\n",
       "      <td>T10</td>\n",
       "      <td>Independent</td>\n",
       "      <td>C1000</td>\n",
       "      <td>ProductDev</td>\n",
       "      <td>Association</td>\n",
       "      <td>1</td>\n",
       "      <td>0</td>\n",
       "      <td>N</td>\n",
       "      <td>5000</td>\n",
       "      <td>1</td>\n",
       "    </tr>\n",
       "    <tr>\n",
       "      <th>1</th>\n",
       "      <td>10531628</td>\n",
       "      <td>AMERICAN CHESAPEAKE CLUB CHARITABLE TR</td>\n",
       "      <td>T3</td>\n",
       "      <td>Independent</td>\n",
       "      <td>C2000</td>\n",
       "      <td>Preservation</td>\n",
       "      <td>Co-operative</td>\n",
       "      <td>1</td>\n",
       "      <td>1-9999</td>\n",
       "      <td>N</td>\n",
       "      <td>108590</td>\n",
       "      <td>1</td>\n",
       "    </tr>\n",
       "    <tr>\n",
       "      <th>2</th>\n",
       "      <td>10547893</td>\n",
       "      <td>ST CLOUD PROFESSIONAL FIREFIGHTERS</td>\n",
       "      <td>T5</td>\n",
       "      <td>CompanySponsored</td>\n",
       "      <td>C3000</td>\n",
       "      <td>ProductDev</td>\n",
       "      <td>Association</td>\n",
       "      <td>1</td>\n",
       "      <td>0</td>\n",
       "      <td>N</td>\n",
       "      <td>5000</td>\n",
       "      <td>0</td>\n",
       "    </tr>\n",
       "    <tr>\n",
       "      <th>3</th>\n",
       "      <td>10553066</td>\n",
       "      <td>SOUTHSIDE ATHLETIC ASSOCIATION</td>\n",
       "      <td>T3</td>\n",
       "      <td>CompanySponsored</td>\n",
       "      <td>C2000</td>\n",
       "      <td>Preservation</td>\n",
       "      <td>Trust</td>\n",
       "      <td>1</td>\n",
       "      <td>10000-24999</td>\n",
       "      <td>N</td>\n",
       "      <td>6692</td>\n",
       "      <td>1</td>\n",
       "    </tr>\n",
       "    <tr>\n",
       "      <th>4</th>\n",
       "      <td>10556103</td>\n",
       "      <td>GENETIC RESEARCH INSTITUTE OF THE DESERT</td>\n",
       "      <td>T3</td>\n",
       "      <td>Independent</td>\n",
       "      <td>C1000</td>\n",
       "      <td>Heathcare</td>\n",
       "      <td>Trust</td>\n",
       "      <td>1</td>\n",
       "      <td>100000-499999</td>\n",
       "      <td>N</td>\n",
       "      <td>142590</td>\n",
       "      <td>1</td>\n",
       "    </tr>\n",
       "  </tbody>\n",
       "</table>\n",
       "</div>"
      ],
      "text/plain": [
       "        EIN                                      NAME APPLICATION_TYPE  \\\n",
       "0  10520599              BLUE KNIGHTS MOTORCYCLE CLUB              T10   \n",
       "1  10531628    AMERICAN CHESAPEAKE CLUB CHARITABLE TR               T3   \n",
       "2  10547893        ST CLOUD PROFESSIONAL FIREFIGHTERS               T5   \n",
       "3  10553066            SOUTHSIDE ATHLETIC ASSOCIATION               T3   \n",
       "4  10556103  GENETIC RESEARCH INSTITUTE OF THE DESERT               T3   \n",
       "\n",
       "        AFFILIATION CLASSIFICATION      USE_CASE  ORGANIZATION  STATUS  \\\n",
       "0       Independent          C1000    ProductDev   Association       1   \n",
       "1       Independent          C2000  Preservation  Co-operative       1   \n",
       "2  CompanySponsored          C3000    ProductDev   Association       1   \n",
       "3  CompanySponsored          C2000  Preservation         Trust       1   \n",
       "4       Independent          C1000     Heathcare         Trust       1   \n",
       "\n",
       "      INCOME_AMT SPECIAL_CONSIDERATIONS  ASK_AMT  IS_SUCCESSFUL  \n",
       "0              0                      N     5000              1  \n",
       "1         1-9999                      N   108590              1  \n",
       "2              0                      N     5000              0  \n",
       "3    10000-24999                      N     6692              1  \n",
       "4  100000-499999                      N   142590              1  "
      ]
     },
     "execution_count": 1,
     "metadata": {},
     "output_type": "execute_result"
    }
   ],
   "source": [
    "# Import our dependencies\n",
    "from sklearn.model_selection import train_test_split\n",
    "from sklearn.preprocessing import StandardScaler\n",
    "import pandas as pd\n",
    "import tensorflow as tf\n",
    "import matplotlib.pyplot as plt\n",
    "import numpy as np\n",
    "\n",
    "#  Import and read the charity_data.csv.\n",
    "import pandas as pd\n",
    "application_df = pd.read_csv(\"https://static.bc-edx.com/data/dl-1-2/m21/lms/starter/charity_data.csv\")\n",
    "application_df.head()"
   ]
  },
  {
   "cell_type": "code",
   "execution_count": 2,
   "metadata": {},
   "outputs": [],
   "source": [
    "# Drop the non-beneficial ID columns, 'EIN' and 'NAME'.\n",
    "application_df = application_df.drop(columns=['EIN', 'NAME'])\n"
   ]
  },
  {
   "cell_type": "code",
   "execution_count": 3,
   "metadata": {},
   "outputs": [
    {
     "data": {
      "text/plain": [
       "APPLICATION_TYPE            17\n",
       "AFFILIATION                  6\n",
       "CLASSIFICATION              71\n",
       "USE_CASE                     5\n",
       "ORGANIZATION                 4\n",
       "STATUS                       2\n",
       "INCOME_AMT                   9\n",
       "SPECIAL_CONSIDERATIONS       2\n",
       "ASK_AMT                   8747\n",
       "IS_SUCCESSFUL                2\n",
       "dtype: int64"
      ]
     },
     "execution_count": 3,
     "metadata": {},
     "output_type": "execute_result"
    }
   ],
   "source": [
    "# Determine the number of unique values in each column.\n",
    "unique_values = application_df.nunique()\n",
    "unique_values"
   ]
  },
  {
   "cell_type": "code",
   "execution_count": 4,
   "metadata": {},
   "outputs": [
    {
     "data": {
      "text/plain": [
       "APPLICATION_TYPE\n",
       "T3       27037\n",
       "T4        1542\n",
       "T6        1216\n",
       "T5        1173\n",
       "T19       1065\n",
       "T8         737\n",
       "T7         725\n",
       "T10        528\n",
       "T9         156\n",
       "Other      120\n",
       "Name: count, dtype: int64"
      ]
     },
     "execution_count": 4,
     "metadata": {},
     "output_type": "execute_result"
    }
   ],
   "source": [
    "# Look at APPLICATION_TYPE value counts to identify and replace with \"Other\"\n",
    "application_type_counts = application_df['APPLICATION_TYPE'].value_counts()\n",
    "application_type_counts\n",
    "# Define the threshold for \"Other\" (example: less than 500)\n",
    "threshold = 100\n",
    "\n",
    "# Replace APPLICATION_TYPE values that are below the threshold with \"Other\"\n",
    "application_df['APPLICATION_TYPE'] = application_df['APPLICATION_TYPE'].apply(lambda x: \"Other\" if application_type_counts[x] < threshold else x)\n",
    "\n",
    "# Verify the changes\n",
    "application_df['APPLICATION_TYPE'].value_counts()"
   ]
  },
  {
   "cell_type": "code",
   "execution_count": 5,
   "metadata": {},
   "outputs": [
    {
     "name": "stdout",
     "output_type": "stream",
     "text": [
      "['T13', 'T12', 'T2', 'T25', 'T14', 'T29', 'T15', 'T17']\n"
     ]
    },
    {
     "data": {
      "text/plain": [
       "APPLICATION_TYPE\n",
       "T3       27037\n",
       "T4        1542\n",
       "T6        1216\n",
       "T5        1173\n",
       "T19       1065\n",
       "T8         737\n",
       "T7         725\n",
       "T10        528\n",
       "T9         156\n",
       "Other      120\n",
       "Name: count, dtype: int64"
      ]
     },
     "execution_count": 5,
     "metadata": {},
     "output_type": "execute_result"
    }
   ],
   "source": [
    "# Choose a cutoff value and create a list of application types to be replaced\n",
    "# use the variable name `application_types_to_replace`\n",
    "# Choose a cutoff value\n",
    "cutoff = 100\n",
    "\n",
    "# Create a list of application types to be replaced\n",
    "application_types_to_replace = application_type_counts[application_type_counts < cutoff].index.tolist()\n",
    "\n",
    "# Display the list of application types to be replaced\n",
    "print(application_types_to_replace)\n",
    "\n",
    "# Replace in dataframe\n",
    "for app in application_types_to_replace:\n",
    "    application_df['APPLICATION_TYPE'] = application_df['APPLICATION_TYPE'].replace(app,\"Other\")\n",
    "\n",
    "# Check to make sure replacement was successful\n",
    "application_df['APPLICATION_TYPE'].value_counts()"
   ]
  },
  {
   "cell_type": "code",
   "execution_count": 6,
   "metadata": {},
   "outputs": [
    {
     "data": {
      "text/plain": [
       "CLASSIFICATION\n",
       "C1000    17326\n",
       "C2000     6074\n",
       "C1200     4837\n",
       "C3000     1918\n",
       "C2100     1883\n",
       "C7000      777\n",
       "Other      669\n",
       "C1700      287\n",
       "C4000      194\n",
       "C5000      116\n",
       "C1270      114\n",
       "C2700      104\n",
       "Name: count, dtype: int64"
      ]
     },
     "execution_count": 6,
     "metadata": {},
     "output_type": "execute_result"
    }
   ],
   "source": [
    "# Look at CLASSIFICATION value counts to identify and replace with \"Other\"\n",
    "classification_counts = application_df['CLASSIFICATION'].value_counts()\n",
    "\n",
    "# Define the cutoff value for \"Other\" \n",
    "cutoff = 100\n",
    "\n",
    "# Create a list of classifications to be replaced\n",
    "classifications_to_replace = classification_counts[classification_counts < cutoff].index.tolist()\n",
    "\n",
    "# Replace the classifications in the dataframe with 'Other'\n",
    "application_df['CLASSIFICATION'] = application_df['CLASSIFICATION'].replace(classifications_to_replace, 'Other')\n",
    "\n",
    "# Verify the changes\n",
    "application_df['CLASSIFICATION'].value_counts()"
   ]
  },
  {
   "cell_type": "code",
   "execution_count": 7,
   "metadata": {},
   "outputs": [
    {
     "name": "stdout",
     "output_type": "stream",
     "text": [
      "CLASSIFICATION\n",
      "C1000    17326\n",
      "C2000     6074\n",
      "C1200     4837\n",
      "C3000     1918\n",
      "C2100     1883\n",
      "C7000      777\n",
      "Other      669\n",
      "C1700      287\n",
      "C4000      194\n",
      "C5000      116\n",
      "C1270      114\n",
      "C2700      104\n",
      "Name: count, dtype: int64\n"
     ]
    }
   ],
   "source": [
    "# You may find it helpful to look at CLASSIFICATION value counts >1\n",
    "# Get the value counts for CLASSIFICATION\n",
    "classification_counts = application_df['CLASSIFICATION'].value_counts()\n",
    "\n",
    "# Display classifications with counts greater than 1\n",
    "classification_counts_gt1 = classification_counts[classification_counts > 1]\n",
    "\n",
    "# Display the value counts\n",
    "print(classification_counts_gt1)"
   ]
  },
  {
   "cell_type": "code",
   "execution_count": 8,
   "metadata": {},
   "outputs": [
    {
     "data": {
      "text/plain": [
       "CLASSIFICATION\n",
       "C1000    17326\n",
       "C2000     6074\n",
       "C1200     4837\n",
       "C3000     1918\n",
       "C2100     1883\n",
       "C7000      777\n",
       "Other      669\n",
       "C1700      287\n",
       "C4000      194\n",
       "C5000      116\n",
       "C1270      114\n",
       "C2700      104\n",
       "Name: count, dtype: int64"
      ]
     },
     "execution_count": 8,
     "metadata": {},
     "output_type": "execute_result"
    }
   ],
   "source": [
    "# Choose a cutoff value and create a list of classifications to be replaced\n",
    "# use the variable name `classifications_to_replace`\n",
    "classification_counts = application_df['CLASSIFICATION'].value_counts()\n",
    "\n",
    "# Define the cutoff value for \"Other\"\n",
    "cutoff = 100\n",
    "\n",
    "# Replace in dataframe\n",
    "for cls in classifications_to_replace:\n",
    "    application_df['CLASSIFICATION'] = application_df['CLASSIFICATION'].replace(cls,\"Other\")\n",
    "\n",
    "# Check to make sure replacement was successful\n",
    "application_df['CLASSIFICATION'].value_counts()"
   ]
  },
  {
   "cell_type": "code",
   "execution_count": 9,
   "metadata": {},
   "outputs": [
    {
     "name": "stdout",
     "output_type": "stream",
     "text": [
      "   STATUS  ASK_AMT  IS_SUCCESSFUL  APPLICATION_TYPE_Other  \\\n",
      "0       1     5000              1                   False   \n",
      "1       1   108590              1                   False   \n",
      "2       1     5000              0                   False   \n",
      "3       1     6692              1                   False   \n",
      "4       1   142590              1                   False   \n",
      "\n",
      "   APPLICATION_TYPE_T10  APPLICATION_TYPE_T19  APPLICATION_TYPE_T3  \\\n",
      "0                  True                 False                False   \n",
      "1                 False                 False                 True   \n",
      "2                 False                 False                False   \n",
      "3                 False                 False                 True   \n",
      "4                 False                 False                 True   \n",
      "\n",
      "   APPLICATION_TYPE_T4  APPLICATION_TYPE_T5  APPLICATION_TYPE_T6  ...  \\\n",
      "0                False                False                False  ...   \n",
      "1                False                False                False  ...   \n",
      "2                False                 True                False  ...   \n",
      "3                False                False                False  ...   \n",
      "4                False                False                False  ...   \n",
      "\n",
      "   INCOME_AMT_1-9999  INCOME_AMT_10000-24999  INCOME_AMT_100000-499999  \\\n",
      "0              False                   False                     False   \n",
      "1               True                   False                     False   \n",
      "2              False                   False                     False   \n",
      "3              False                    True                     False   \n",
      "4              False                   False                      True   \n",
      "\n",
      "   INCOME_AMT_10M-50M  INCOME_AMT_1M-5M  INCOME_AMT_25000-99999  \\\n",
      "0               False             False                   False   \n",
      "1               False             False                   False   \n",
      "2               False             False                   False   \n",
      "3               False             False                   False   \n",
      "4               False             False                   False   \n",
      "\n",
      "   INCOME_AMT_50M+  INCOME_AMT_5M-10M  SPECIAL_CONSIDERATIONS_N  \\\n",
      "0            False              False                      True   \n",
      "1            False              False                      True   \n",
      "2            False              False                      True   \n",
      "3            False              False                      True   \n",
      "4            False              False                      True   \n",
      "\n",
      "   SPECIAL_CONSIDERATIONS_Y  \n",
      "0                     False  \n",
      "1                     False  \n",
      "2                     False  \n",
      "3                     False  \n",
      "4                     False  \n",
      "\n",
      "[5 rows x 51 columns]\n"
     ]
    }
   ],
   "source": [
    "# Convert categorical data to numeric with `pd.get_dummies`\n",
    "application_df_encoded = pd.get_dummies(application_df)\n",
    "\n",
    "# Display the first few rows of the encoded DataFrame\n",
    "print(application_df_encoded.head())"
   ]
  },
  {
   "cell_type": "code",
   "execution_count": 10,
   "metadata": {},
   "outputs": [
    {
     "name": "stdout",
     "output_type": "stream",
     "text": [
      "Training features shape: (27439, 50)\n",
      "Testing features shape: (6860, 50)\n",
      "Training target shape: (27439,)\n",
      "Testing target shape: (6860,)\n"
     ]
    }
   ],
   "source": [
    "# Split our preprocessed data into our features and target arrays\n",
    "y = application_df_encoded['IS_SUCCESSFUL']  # Target variable\n",
    "X = application_df_encoded.drop(columns=['IS_SUCCESSFUL'])  # Features\n",
    "\n",
    "# Split the preprocessed data into a training and testing dataset\n",
    "X_train, X_test, y_train, y_test = train_test_split(X, y, test_size=0.2, random_state=42)\n",
    "\n",
    "# Display the shapes of the resulting datasets\n",
    "print(f\"Training features shape: {X_train.shape}\")\n",
    "print(f\"Testing features shape: {X_test.shape}\")\n",
    "print(f\"Training target shape: {y_train.shape}\")\n",
    "print(f\"Testing target shape: {y_test.shape}\")"
   ]
  },
  {
   "cell_type": "code",
   "execution_count": 11,
   "metadata": {},
   "outputs": [],
   "source": [
    "# Create a StandardScaler instances\n",
    "scaler = StandardScaler()\n",
    "\n",
    "# Fit the StandardScaler\n",
    "X_scaler = scaler.fit(X_train)\n",
    "\n",
    "# Scale the data\n",
    "X_train_scaled = X_scaler.transform(X_train)\n",
    "X_test_scaled = X_scaler.transform(X_test)"
   ]
  },
  {
   "cell_type": "markdown",
   "metadata": {},
   "source": [
    "## Compile, Train and Evaluate the Model"
   ]
  },
  {
   "cell_type": "code",
   "execution_count": 44,
   "metadata": {},
   "outputs": [
    {
     "name": "stdout",
     "output_type": "stream",
     "text": [
      "Model: \"sequential_6\"\n",
      "_________________________________________________________________\n",
      " Layer (type)                Output Shape              Param #   \n",
      "=================================================================\n",
      " dense_18 (Dense)            (None, 10)                510       \n",
      "                                                                 \n",
      " dense_19 (Dense)            (None, 10)                110       \n",
      "                                                                 \n",
      " dense_20 (Dense)            (None, 1)                 11        \n",
      "                                                                 \n",
      "=================================================================\n",
      "Total params: 631\n",
      "Trainable params: 631\n",
      "Non-trainable params: 0\n",
      "_________________________________________________________________\n"
     ]
    }
   ],
   "source": [
    "# Create a Keras Sequential model and add more than one Dense hidden layer\n",
    "nn_model = tf.keras.models.Sequential()\n",
    "\n",
    "nn_model.add(tf.keras.layers.Dense(units=10, activation=\"relu\", input_dim=50))\n",
    "\n",
    "nn_model.add(tf.keras.layers.Dense(units=10, activation=\"relu\"))\n",
    "\n",
    "nn_model.add(tf.keras.layers.Dense(units=1, activation=\"sigmoid\"))\n",
    "\n",
    "# Check the structure of the Sequential model\n",
    "nn_model.summary()"
   ]
  },
  {
   "cell_type": "code",
   "execution_count": 45,
   "metadata": {},
   "outputs": [
    {
     "name": "stdout",
     "output_type": "stream",
     "text": [
      "(27439, 50) (6860, 50) (27439,) (6860,)\n"
     ]
    }
   ],
   "source": [
    "# Convert to NumPy arrays if not already\n",
    "X_train = np.array(X_train)\n",
    "X_test = np.array(X_test)\n",
    "y_train = np.array(y_train)\n",
    "y_test = np.array(y_test)\n",
    "\n",
    "# Ensure the data types are correct\n",
    "X_train = X_train.astype(float)\n",
    "X_test = X_test.astype(float)\n",
    "y_train = y_train.astype(int)  \n",
    "y_test = y_test.astype(int)   \n",
    "\n",
    "# Verify shapes\n",
    "print(X_train.shape, X_test.shape, y_train.shape, y_test.shape)"
   ]
  },
  {
   "cell_type": "code",
   "execution_count": 46,
   "metadata": {},
   "outputs": [
    {
     "name": "stdout",
     "output_type": "stream",
     "text": [
      "Epoch 1/100\n",
      "858/858 [==============================] - 0s 417us/step - loss: 0.5377 - accuracy: 0.7370 - val_loss: 0.5568 - val_accuracy: 0.7270\n",
      "Epoch 2/100\n",
      "858/858 [==============================] - 0s 354us/step - loss: 0.5375 - accuracy: 0.7366 - val_loss: 0.5593 - val_accuracy: 0.7271\n",
      "Epoch 3/100\n",
      "858/858 [==============================] - 0s 351us/step - loss: 0.5378 - accuracy: 0.7364 - val_loss: 0.5583 - val_accuracy: 0.7283\n",
      "Epoch 4/100\n",
      "858/858 [==============================] - 0s 374us/step - loss: 0.5375 - accuracy: 0.7375 - val_loss: 0.5569 - val_accuracy: 0.7299\n",
      "Epoch 5/100\n",
      "858/858 [==============================] - 0s 371us/step - loss: 0.5374 - accuracy: 0.7354 - val_loss: 0.5603 - val_accuracy: 0.7252\n",
      "Epoch 6/100\n",
      "858/858 [==============================] - 0s 361us/step - loss: 0.5378 - accuracy: 0.7373 - val_loss: 0.5577 - val_accuracy: 0.7261\n",
      "Epoch 7/100\n",
      "858/858 [==============================] - 0s 355us/step - loss: 0.5374 - accuracy: 0.7377 - val_loss: 0.5567 - val_accuracy: 0.7276\n",
      "Epoch 8/100\n",
      "858/858 [==============================] - 0s 358us/step - loss: 0.5377 - accuracy: 0.7368 - val_loss: 0.5568 - val_accuracy: 0.7270\n",
      "Epoch 9/100\n",
      "858/858 [==============================] - 0s 388us/step - loss: 0.5377 - accuracy: 0.7368 - val_loss: 0.5584 - val_accuracy: 0.7280\n",
      "Epoch 10/100\n",
      "858/858 [==============================] - 0s 361us/step - loss: 0.5372 - accuracy: 0.7379 - val_loss: 0.5593 - val_accuracy: 0.7283\n",
      "Epoch 11/100\n",
      "858/858 [==============================] - 0s 357us/step - loss: 0.5379 - accuracy: 0.7373 - val_loss: 0.5579 - val_accuracy: 0.7239\n",
      "Epoch 12/100\n",
      "858/858 [==============================] - 0s 354us/step - loss: 0.5377 - accuracy: 0.7371 - val_loss: 0.5582 - val_accuracy: 0.7287\n",
      "Epoch 13/100\n",
      "858/858 [==============================] - 0s 391us/step - loss: 0.5375 - accuracy: 0.7380 - val_loss: 0.5583 - val_accuracy: 0.7265\n",
      "Epoch 14/100\n",
      "858/858 [==============================] - 0s 372us/step - loss: 0.5373 - accuracy: 0.7378 - val_loss: 0.5599 - val_accuracy: 0.7274\n",
      "Epoch 15/100\n",
      "858/858 [==============================] - 0s 419us/step - loss: 0.5376 - accuracy: 0.7364 - val_loss: 0.5583 - val_accuracy: 0.7281\n",
      "Epoch 16/100\n",
      "858/858 [==============================] - 0s 370us/step - loss: 0.5374 - accuracy: 0.7369 - val_loss: 0.5577 - val_accuracy: 0.7296\n",
      "Epoch 17/100\n",
      "858/858 [==============================] - 0s 373us/step - loss: 0.5378 - accuracy: 0.7371 - val_loss: 0.5577 - val_accuracy: 0.7265\n",
      "Epoch 18/100\n",
      "858/858 [==============================] - 0s 372us/step - loss: 0.5375 - accuracy: 0.7374 - val_loss: 0.5588 - val_accuracy: 0.7281\n",
      "Epoch 19/100\n",
      "858/858 [==============================] - 0s 372us/step - loss: 0.5376 - accuracy: 0.7373 - val_loss: 0.5579 - val_accuracy: 0.7264\n",
      "Epoch 20/100\n",
      "858/858 [==============================] - 0s 402us/step - loss: 0.5373 - accuracy: 0.7377 - val_loss: 0.5581 - val_accuracy: 0.7267\n",
      "Epoch 21/100\n",
      "858/858 [==============================] - 0s 367us/step - loss: 0.5376 - accuracy: 0.7363 - val_loss: 0.5567 - val_accuracy: 0.7287\n",
      "Epoch 22/100\n",
      "858/858 [==============================] - 0s 368us/step - loss: 0.5372 - accuracy: 0.7376 - val_loss: 0.5590 - val_accuracy: 0.7239\n",
      "Epoch 23/100\n",
      "858/858 [==============================] - 0s 366us/step - loss: 0.5374 - accuracy: 0.7369 - val_loss: 0.5572 - val_accuracy: 0.7287\n",
      "Epoch 24/100\n",
      "858/858 [==============================] - 0s 371us/step - loss: 0.5377 - accuracy: 0.7372 - val_loss: 0.5581 - val_accuracy: 0.7273\n",
      "Epoch 25/100\n",
      "858/858 [==============================] - 0s 368us/step - loss: 0.5376 - accuracy: 0.7372 - val_loss: 0.5591 - val_accuracy: 0.7290\n",
      "Epoch 26/100\n",
      "858/858 [==============================] - 0s 393us/step - loss: 0.5374 - accuracy: 0.7370 - val_loss: 0.5571 - val_accuracy: 0.7293\n",
      "Epoch 27/100\n",
      "858/858 [==============================] - 0s 367us/step - loss: 0.5377 - accuracy: 0.7372 - val_loss: 0.5586 - val_accuracy: 0.7267\n",
      "Epoch 28/100\n",
      "858/858 [==============================] - 0s 371us/step - loss: 0.5373 - accuracy: 0.7365 - val_loss: 0.5596 - val_accuracy: 0.7251\n",
      "Epoch 29/100\n",
      "858/858 [==============================] - 0s 380us/step - loss: 0.5378 - accuracy: 0.7368 - val_loss: 0.5558 - val_accuracy: 0.7265\n",
      "Epoch 30/100\n",
      "858/858 [==============================] - 0s 391us/step - loss: 0.5378 - accuracy: 0.7364 - val_loss: 0.5577 - val_accuracy: 0.7261\n",
      "Epoch 31/100\n",
      "858/858 [==============================] - 0s 373us/step - loss: 0.5374 - accuracy: 0.7365 - val_loss: 0.5585 - val_accuracy: 0.7230\n",
      "Epoch 32/100\n",
      "858/858 [==============================] - 0s 395us/step - loss: 0.5373 - accuracy: 0.7372 - val_loss: 0.5595 - val_accuracy: 0.7224\n",
      "Epoch 33/100\n",
      "858/858 [==============================] - 0s 367us/step - loss: 0.5375 - accuracy: 0.7376 - val_loss: 0.5573 - val_accuracy: 0.7277\n",
      "Epoch 34/100\n",
      "858/858 [==============================] - 0s 365us/step - loss: 0.5373 - accuracy: 0.7371 - val_loss: 0.5596 - val_accuracy: 0.7254\n",
      "Epoch 35/100\n",
      "858/858 [==============================] - 0s 504us/step - loss: 0.5373 - accuracy: 0.7371 - val_loss: 0.5593 - val_accuracy: 0.7287\n",
      "Epoch 36/100\n",
      "858/858 [==============================] - 0s 375us/step - loss: 0.5377 - accuracy: 0.7365 - val_loss: 0.5579 - val_accuracy: 0.7267\n",
      "Epoch 37/100\n",
      "858/858 [==============================] - 0s 395us/step - loss: 0.5374 - accuracy: 0.7373 - val_loss: 0.5614 - val_accuracy: 0.7213\n",
      "Epoch 38/100\n",
      "858/858 [==============================] - 0s 362us/step - loss: 0.5374 - accuracy: 0.7376 - val_loss: 0.5577 - val_accuracy: 0.7238\n",
      "Epoch 39/100\n",
      "858/858 [==============================] - 0s 370us/step - loss: 0.5373 - accuracy: 0.7372 - val_loss: 0.5580 - val_accuracy: 0.7242\n",
      "Epoch 40/100\n",
      "858/858 [==============================] - 0s 363us/step - loss: 0.5373 - accuracy: 0.7367 - val_loss: 0.5576 - val_accuracy: 0.7216\n",
      "Epoch 41/100\n",
      "858/858 [==============================] - 0s 369us/step - loss: 0.5370 - accuracy: 0.7378 - val_loss: 0.5598 - val_accuracy: 0.7286\n",
      "Epoch 42/100\n",
      "858/858 [==============================] - 0s 370us/step - loss: 0.5376 - accuracy: 0.7365 - val_loss: 0.5620 - val_accuracy: 0.7246\n",
      "Epoch 43/100\n",
      "858/858 [==============================] - 0s 393us/step - loss: 0.5374 - accuracy: 0.7377 - val_loss: 0.5581 - val_accuracy: 0.7305\n",
      "Epoch 44/100\n",
      "858/858 [==============================] - 0s 571us/step - loss: 0.5374 - accuracy: 0.7371 - val_loss: 0.5603 - val_accuracy: 0.7287\n",
      "Epoch 45/100\n",
      "858/858 [==============================] - 0s 470us/step - loss: 0.5377 - accuracy: 0.7370 - val_loss: 0.5573 - val_accuracy: 0.7265\n",
      "Epoch 46/100\n",
      "858/858 [==============================] - 0s 406us/step - loss: 0.5375 - accuracy: 0.7371 - val_loss: 0.5586 - val_accuracy: 0.7262\n",
      "Epoch 47/100\n",
      "858/858 [==============================] - 0s 373us/step - loss: 0.5376 - accuracy: 0.7391 - val_loss: 0.5578 - val_accuracy: 0.7296\n",
      "Epoch 48/100\n",
      "858/858 [==============================] - 0s 371us/step - loss: 0.5372 - accuracy: 0.7381 - val_loss: 0.5588 - val_accuracy: 0.7277\n",
      "Epoch 49/100\n",
      "858/858 [==============================] - 0s 367us/step - loss: 0.5375 - accuracy: 0.7383 - val_loss: 0.5591 - val_accuracy: 0.7210\n",
      "Epoch 50/100\n",
      "858/858 [==============================] - 0s 365us/step - loss: 0.5372 - accuracy: 0.7379 - val_loss: 0.5570 - val_accuracy: 0.7251\n",
      "Epoch 51/100\n",
      "858/858 [==============================] - 0s 364us/step - loss: 0.5373 - accuracy: 0.7375 - val_loss: 0.5591 - val_accuracy: 0.7270\n",
      "Epoch 52/100\n",
      "858/858 [==============================] - 0s 388us/step - loss: 0.5374 - accuracy: 0.7375 - val_loss: 0.5589 - val_accuracy: 0.7280\n",
      "Epoch 53/100\n",
      "858/858 [==============================] - 0s 367us/step - loss: 0.5375 - accuracy: 0.7365 - val_loss: 0.5619 - val_accuracy: 0.7185\n",
      "Epoch 54/100\n",
      "858/858 [==============================] - 0s 494us/step - loss: 0.5371 - accuracy: 0.7360 - val_loss: 0.5601 - val_accuracy: 0.7217\n",
      "Epoch 55/100\n",
      "858/858 [==============================] - 0s 358us/step - loss: 0.5375 - accuracy: 0.7364 - val_loss: 0.5570 - val_accuracy: 0.7290\n",
      "Epoch 56/100\n",
      "858/858 [==============================] - 0s 363us/step - loss: 0.5370 - accuracy: 0.7373 - val_loss: 0.5594 - val_accuracy: 0.7261\n",
      "Epoch 57/100\n",
      "858/858 [==============================] - 0s 362us/step - loss: 0.5372 - accuracy: 0.7374 - val_loss: 0.5577 - val_accuracy: 0.7267\n",
      "Epoch 58/100\n",
      "858/858 [==============================] - 0s 366us/step - loss: 0.5371 - accuracy: 0.7382 - val_loss: 0.5578 - val_accuracy: 0.7277\n",
      "Epoch 59/100\n",
      "858/858 [==============================] - 0s 397us/step - loss: 0.5371 - accuracy: 0.7382 - val_loss: 0.5575 - val_accuracy: 0.7281\n",
      "Epoch 60/100\n",
      "858/858 [==============================] - 0s 378us/step - loss: 0.5373 - accuracy: 0.7361 - val_loss: 0.5597 - val_accuracy: 0.7229\n",
      "Epoch 61/100\n",
      "858/858 [==============================] - 0s 372us/step - loss: 0.5376 - accuracy: 0.7365 - val_loss: 0.5596 - val_accuracy: 0.7273\n",
      "Epoch 62/100\n",
      "858/858 [==============================] - 0s 370us/step - loss: 0.5374 - accuracy: 0.7369 - val_loss: 0.5609 - val_accuracy: 0.7216\n",
      "Epoch 63/100\n",
      "858/858 [==============================] - 0s 370us/step - loss: 0.5372 - accuracy: 0.7368 - val_loss: 0.5639 - val_accuracy: 0.7200\n",
      "Epoch 64/100\n",
      "858/858 [==============================] - 0s 367us/step - loss: 0.5376 - accuracy: 0.7372 - val_loss: 0.5602 - val_accuracy: 0.7258\n",
      "Epoch 65/100\n",
      "858/858 [==============================] - 0s 393us/step - loss: 0.5378 - accuracy: 0.7374 - val_loss: 0.5577 - val_accuracy: 0.7278\n",
      "Epoch 66/100\n",
      "858/858 [==============================] - 0s 373us/step - loss: 0.5375 - accuracy: 0.7381 - val_loss: 0.5583 - val_accuracy: 0.7283\n",
      "Epoch 67/100\n",
      "858/858 [==============================] - 0s 362us/step - loss: 0.5370 - accuracy: 0.7378 - val_loss: 0.5595 - val_accuracy: 0.7257\n",
      "Epoch 68/100\n",
      "858/858 [==============================] - 0s 461us/step - loss: 0.5379 - accuracy: 0.7356 - val_loss: 0.5560 - val_accuracy: 0.7289\n",
      "Epoch 69/100\n",
      "858/858 [==============================] - 0s 544us/step - loss: 0.5375 - accuracy: 0.7371 - val_loss: 0.5574 - val_accuracy: 0.7258\n",
      "Epoch 70/100\n",
      "858/858 [==============================] - 0s 374us/step - loss: 0.5375 - accuracy: 0.7368 - val_loss: 0.5577 - val_accuracy: 0.7280\n",
      "Epoch 71/100\n",
      "858/858 [==============================] - 0s 383us/step - loss: 0.5373 - accuracy: 0.7369 - val_loss: 0.5586 - val_accuracy: 0.7268\n",
      "Epoch 72/100\n",
      "858/858 [==============================] - 0s 394us/step - loss: 0.5373 - accuracy: 0.7372 - val_loss: 0.5576 - val_accuracy: 0.7273\n",
      "Epoch 73/100\n",
      "858/858 [==============================] - 0s 364us/step - loss: 0.5372 - accuracy: 0.7377 - val_loss: 0.5571 - val_accuracy: 0.7271\n",
      "Epoch 74/100\n",
      "858/858 [==============================] - 0s 360us/step - loss: 0.5373 - accuracy: 0.7367 - val_loss: 0.5593 - val_accuracy: 0.7265\n",
      "Epoch 75/100\n",
      "858/858 [==============================] - 0s 360us/step - loss: 0.5375 - accuracy: 0.7368 - val_loss: 0.5586 - val_accuracy: 0.7278\n",
      "Epoch 76/100\n",
      "858/858 [==============================] - 0s 368us/step - loss: 0.5375 - accuracy: 0.7370 - val_loss: 0.5574 - val_accuracy: 0.7287\n",
      "Epoch 77/100\n",
      "858/858 [==============================] - 0s 364us/step - loss: 0.5375 - accuracy: 0.7364 - val_loss: 0.5580 - val_accuracy: 0.7299\n",
      "Epoch 78/100\n",
      "858/858 [==============================] - 0s 369us/step - loss: 0.5372 - accuracy: 0.7367 - val_loss: 0.5590 - val_accuracy: 0.7289\n",
      "Epoch 79/100\n",
      "858/858 [==============================] - 0s 368us/step - loss: 0.5374 - accuracy: 0.7371 - val_loss: 0.5593 - val_accuracy: 0.7286\n",
      "Epoch 80/100\n",
      "858/858 [==============================] - 0s 520us/step - loss: 0.5378 - accuracy: 0.7383 - val_loss: 0.5606 - val_accuracy: 0.7241\n",
      "Epoch 81/100\n",
      "858/858 [==============================] - 0s 367us/step - loss: 0.5371 - accuracy: 0.7367 - val_loss: 0.5592 - val_accuracy: 0.7262\n",
      "Epoch 82/100\n",
      "858/858 [==============================] - 0s 364us/step - loss: 0.5372 - accuracy: 0.7367 - val_loss: 0.5587 - val_accuracy: 0.7270\n",
      "Epoch 83/100\n",
      "858/858 [==============================] - 0s 360us/step - loss: 0.5376 - accuracy: 0.7357 - val_loss: 0.5577 - val_accuracy: 0.7280\n",
      "Epoch 84/100\n",
      "858/858 [==============================] - 0s 361us/step - loss: 0.5371 - accuracy: 0.7363 - val_loss: 0.5586 - val_accuracy: 0.7296\n",
      "Epoch 85/100\n",
      "858/858 [==============================] - 0s 366us/step - loss: 0.5377 - accuracy: 0.7373 - val_loss: 0.5591 - val_accuracy: 0.7224\n",
      "Epoch 86/100\n",
      "858/858 [==============================] - 0s 393us/step - loss: 0.5373 - accuracy: 0.7364 - val_loss: 0.5596 - val_accuracy: 0.7303\n",
      "Epoch 87/100\n",
      "858/858 [==============================] - 0s 364us/step - loss: 0.5378 - accuracy: 0.7347 - val_loss: 0.5580 - val_accuracy: 0.7293\n",
      "Epoch 88/100\n",
      "858/858 [==============================] - 0s 367us/step - loss: 0.5374 - accuracy: 0.7370 - val_loss: 0.5575 - val_accuracy: 0.7294\n",
      "Epoch 89/100\n",
      "858/858 [==============================] - 0s 367us/step - loss: 0.5373 - accuracy: 0.7368 - val_loss: 0.5581 - val_accuracy: 0.7281\n",
      "Epoch 90/100\n",
      "858/858 [==============================] - 0s 458us/step - loss: 0.5374 - accuracy: 0.7372 - val_loss: 0.5575 - val_accuracy: 0.7280\n",
      "Epoch 91/100\n",
      "858/858 [==============================] - 0s 361us/step - loss: 0.5374 - accuracy: 0.7378 - val_loss: 0.5589 - val_accuracy: 0.7280\n",
      "Epoch 92/100\n",
      "858/858 [==============================] - 0s 363us/step - loss: 0.5371 - accuracy: 0.7368 - val_loss: 0.5587 - val_accuracy: 0.7278\n",
      "Epoch 93/100\n",
      "858/858 [==============================] - 0s 391us/step - loss: 0.5371 - accuracy: 0.7369 - val_loss: 0.5606 - val_accuracy: 0.7271\n",
      "Epoch 94/100\n",
      "858/858 [==============================] - 0s 368us/step - loss: 0.5375 - accuracy: 0.7372 - val_loss: 0.5582 - val_accuracy: 0.7271\n",
      "Epoch 95/100\n",
      "858/858 [==============================] - 0s 364us/step - loss: 0.5375 - accuracy: 0.7365 - val_loss: 0.5600 - val_accuracy: 0.7270\n",
      "Epoch 96/100\n",
      "858/858 [==============================] - 0s 369us/step - loss: 0.5370 - accuracy: 0.7365 - val_loss: 0.5584 - val_accuracy: 0.7289\n",
      "Epoch 97/100\n",
      "858/858 [==============================] - 0s 364us/step - loss: 0.5375 - accuracy: 0.7385 - val_loss: 0.5616 - val_accuracy: 0.7204\n",
      "Epoch 98/100\n",
      "858/858 [==============================] - 0s 362us/step - loss: 0.5377 - accuracy: 0.7372 - val_loss: 0.5588 - val_accuracy: 0.7259\n",
      "Epoch 99/100\n",
      "858/858 [==============================] - 0s 445us/step - loss: 0.5374 - accuracy: 0.7375 - val_loss: 0.5592 - val_accuracy: 0.7294\n",
      "Epoch 100/100\n",
      "858/858 [==============================] - 0s 366us/step - loss: 0.5375 - accuracy: 0.7367 - val_loss: 0.5586 - val_accuracy: 0.7280\n"
     ]
    }
   ],
   "source": [
    "history = nn.fit(X_train_scaled, y_train, epochs=100, batch_size=32, validation_data=(X_test_scaled, y_test), verbose=1)"
   ]
  },
  {
   "cell_type": "code",
   "execution_count": 47,
   "metadata": {
    "scrolled": true
   },
   "outputs": [
    {
     "name": "stdout",
     "output_type": "stream",
     "text": [
      "215/215 [==============================] - 0s 248us/step - loss: 0.5586 - accuracy: 0.7280\n",
      "Loss: 0.5586397051811218, Accuracy: 0.7279883623123169\n"
     ]
    }
   ],
   "source": [
    "# Evaluate the model using the test data\n",
    "model_loss, model_accuracy = nn.evaluate(X_test_scaled,y_test,verbose=1)\n",
    "print(f\"Loss: {model_loss}, Accuracy: {model_accuracy}\")"
   ]
  },
  {
   "cell_type": "code",
   "execution_count": 40,
   "metadata": {},
   "outputs": [
    {
     "name": "stdout",
     "output_type": "stream",
     "text": [
      "Model saved to AlphabetSoupCharity_Optimization.h5\n"
     ]
    }
   ],
   "source": [
    "# Export our model to HDF5 file\n",
    "model_filename = 'AlphabetSoupCharity_Optimization.h5'\n",
    "nn.save(model_filename)\n",
    "\n",
    "print(f\"Model saved to {model_filename}\")"
   ]
  },
  {
   "cell_type": "code",
   "execution_count": null,
   "metadata": {},
   "outputs": [],
   "source": []
  }
 ],
 "metadata": {
  "kernelspec": {
   "display_name": "Python 3 (ipykernel)",
   "language": "python",
   "name": "python3"
  },
  "language_info": {
   "codemirror_mode": {
    "name": "ipython",
    "version": 3
   },
   "file_extension": ".py",
   "mimetype": "text/x-python",
   "name": "python",
   "nbconvert_exporter": "python",
   "pygments_lexer": "ipython3",
   "version": "3.11.0"
  },
  "vscode": {
   "interpreter": {
    "hash": "31f2aee4e71d21fbe5cf8b01ff0e069b9275f58929596ceb00d14d90e3e16cd6"
   }
  }
 },
 "nbformat": 4,
 "nbformat_minor": 4
}
